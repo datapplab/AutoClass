{
 "cells": [
  {
   "cell_type": "markdown",
   "metadata": {},
   "source": [
    "### Overview\n",
    "This tutorial shows you the primary functions and basic use of AutoClass Module. Please cite our paper when using this open-source module or the AutoClass method:\n",
    "\n",
    "Li H, Brouwer C, Luo W. Composite Deep Neural Network for In-Depth Cleaning of Single-Cell RNA-Seq Data. Submitted, 2020 <a href=https://doi.org/></a>\n",
    "\n",
    "Please go through this tutorial and other documentation of this module before actual use."
   ]
  },
  {
   "cell_type": "markdown",
   "metadata": {},
   "source": [
    "### Getting started"
   ]
  },
  {
   "cell_type": "markdown",
   "metadata": {},
   "source": [
    "Download the [AutoClass](https://github.com/datapplab/AutoClass/tree/master/AutoClass) moduel, and change directory to the AutoClass folder, and unzip the demo data folder."
   ]
  },
  {
   "cell_type": "code",
   "execution_count": 1,
   "metadata": {},
   "outputs": [],
   "source": [
    "#modify based on your local directory\n",
    "%cd /path/to/your/downloaded/AutoClass\n",
    "!unzip datasets/Dataset1.zip"
   ]
  },
  {
   "cell_type": "markdown",
   "metadata": {},
   "source": [
    "#### Import relevent AutoClass functions "
   ]
  },
  {
   "cell_type": "code",
   "execution_count": 2,
   "metadata": {},
   "outputs": [],
   "source": [
    "from AutoClassAutoClass import AutoClassImpute, take_norm"
   ]
  },
  {
   "cell_type": "code",
   "execution_count": 3,
   "metadata": {},
   "outputs": [],
   "source": [
    "import pandas as pd\n",
    "import numpy as np\n",
    "import matplotlib.pyplot as plt\n",
    "from sklearn.metrics import silhouette_score\n",
    "from sklearn.decomposition import PCA\n",
    "from sklearn.manifold import TSNE"
   ]
  },
  {
   "cell_type": "markdown",
   "metadata": {},
   "source": [
    "#### Read in demo data, including raw data, true data and cell type info.\n",
    "Demo dataset can be found in [dataset](https://github.com/datapplab/AutoClass/tree/master/datasets)."
   ]
  },
  {
   "cell_type": "code",
   "execution_count": 4,
   "metadata": {},
   "outputs": [],
   "source": [
    "expr = pd.read_csv('Dataset1/counts.csv',index_col=0)\n",
    "expr_true = pd.read_csv('Dataset1/truecounts.csv',index_col=0)\n",
    "cellinfo = pd.read_csv('Dataset1/cellinfo.csv',index_col=0)"
   ]
  },
  {
   "cell_type": "code",
   "execution_count": 5,
   "metadata": {},
   "outputs": [
    {
     "name": "stdout",
     "output_type": "stream",
     "text": [
      "938 genes, 500 cells in 6 groups\n"
     ]
    }
   ],
   "source": [
    "X = expr.values #Splash generated scRNA-seq data with dropout\n",
    "X_true = expr_true.values #Splash generated scRNA-seq data without dropout (ground truth)\n",
    "Y = cellinfo['Group'].values #cell type label\n",
    "unique_class = np.unique(Y)\n",
    "celltypes = Y\n",
    "K = len(unique_class)\n",
    "ncell,ngene = X.shape[0],X.shape[1]\n",
    "print('{} genes, {} cells in {} groups'.format(ngene,ncell,K))"
   ]
  },
  {
   "cell_type": "code",
   "execution_count": 6,
   "metadata": {},
   "outputs": [],
   "source": [
    "#library size normalization followed by a log2 transformation with pseudo count 1\n",
    "X_norm = take_norm(X)\n",
    "X_true_norm = take_norm(X_true)"
   ]
  },
  {
   "cell_type": "markdown",
   "metadata": {},
   "source": [
    "#### Set random seeds as to reproduce the results in the notebook"
   ]
  },
  {
   "cell_type": "code",
   "execution_count": 7,
   "metadata": {},
   "outputs": [],
   "source": [
    "import random\n",
    "import os\n",
    "sd=1\n",
    "os.environ['PYTHONHASHSEED']=str(sd)\n",
    "random.seed(sd)\n",
    "np.random.seed(sd)\n",
    "#tf.random.set_seed(sd)"
   ]
  },
  {
   "cell_type": "code",
   "execution_count": 8,
   "metadata": {},
   "outputs": [
    {
     "data": {
      "image/png": "[encoded data removed]",
      "text/plain": [
       "<Figure size 288x144 with 2 Axes>"
      ]
     },
     "metadata": {},
     "output_type": "display_data"
    }
   ],
   "source": [
    "pca_raw = PCA(n_components=50,random_state=1).fit_transform(X_norm)\n",
    "tsne_raw = TSNE(n_components=2,random_state=1).fit_transform(pca_raw)\n",
    "pca_true = PCA(n_components=50,random_state=1).fit_transform(X_true_norm)\n",
    "tsne_true = TSNE(n_components=2,random_state=1).fit_transform(pca_true)\n",
    "\n",
    "fig = plt.figure(figsize=(4,2))\n",
    "fig.add_subplot(121)\n",
    "for i in range(K):\n",
    "    plt.scatter(tsne_true[Y==unique_class[i],0],\n",
    "                tsne_true[Y==unique_class[i],1], \n",
    "                s=10,label = unique_class[i] ) \n",
    "plt.title('Without Dropout')\n",
    "plt.xticks([],[])\n",
    "plt.yticks([],[])\n",
    "plt.xlabel('t-SNE1')\n",
    "plt.ylabel('t-SNE2')\n",
    "    \n",
    "fig.add_subplot(122)\n",
    "for i in range(K):\n",
    "    plt.scatter(tsne_raw[Y==unique_class[i],0],\n",
    "                tsne_raw[Y==unique_class[i],1], \n",
    "                s=10,label = unique_class[i] )\n",
    "plt.title('With Dropout')\n",
    "plt.xticks([],[])\n",
    "plt.yticks([],[])\n",
    "plt.show()"
   ]
  },
  {
   "cell_type": "markdown",
   "metadata": {},
   "source": [
    "### Imputation by AutoClass with default setting\n",
    "The input to `AutoClassImpute` is a matrix of gene expression counts with cells along the rows and genes along the columns."
   ]
  },
  {
   "cell_type": "code",
   "execution_count": 9,
   "metadata": {},
   "outputs": [
    {
     "name": "stdout",
     "output_type": "stream",
     "text": [
      "500 cells and 938 genes\n",
      "number of clusters in pre-clustering:[8, 9, 10]\n",
      "n_cluster = 8...\n",
      "n_cluster = 9...\n",
      "n_cluster = 10...\n",
      "escape time is: 28.0673246383667\n"
     ]
    }
   ],
   "source": [
    "res = AutoClassImpute(X)"
   ]
  },
  {
   "cell_type": "markdown",
   "metadata": {},
   "source": [
    "`res` is a dictionary contains three items:\n",
    "\n",
    "- `res['imp']` gives the normailzed AutoClass imputation result.\n",
    "- `res['model']` gives the AutoClass network informaton.\n",
    "- `res['loss_history']` gives the loss information. "
   ]
  },
  {
   "cell_type": "markdown",
   "metadata": {},
   "source": [
    "#### Visualize the imputed result "
   ]
  },
  {
   "cell_type": "code",
   "execution_count": 10,
   "metadata": {},
   "outputs": [
    {
     "data": {
      "image/png": "[encoded data removed]",
      "text/plain": [
       "<Figure size 144x144 with 1 Axes>"
      ]
     },
     "metadata": {},
     "output_type": "display_data"
    }
   ],
   "source": [
    "imp = res['imp'] #imputation result (already normalized, ready for analysis)\n",
    "PCA_imp = PCA(n_components=50,random_state=1).fit_transform(imp)\n",
    "tsne_imp = TSNE(n_components=2,random_state=1).fit_transform(PCA_imp)\n",
    "fig = plt.figure(figsize=(2,2))\n",
    "for i in range(K):\n",
    "    plt.scatter(tsne_imp[Y==unique_class[i],0],\n",
    "                tsne_imp[Y==unique_class[i],1], \n",
    "                s=10,label = unique_class[i] ) \n",
    "plt.title('Imputation by AutoClass')\n",
    "plt.xticks([],[])\n",
    "plt.yticks([],[])\n",
    "plt.xlabel('t-SNE1')\n",
    "plt.ylabel('t-SNE2')\n",
    "plt.show()"
   ]
  },
  {
   "cell_type": "markdown",
   "metadata": {},
   "source": [
    "#### Print model information"
   ]
  },
  {
   "cell_type": "code",
   "execution_count": 11,
   "metadata": {
    "scrolled": false
   },
   "outputs": [
    {
     "name": "stdout",
     "output_type": "stream",
     "text": [
      "Model: \"model\"\n",
      "__________________________________________________________________________________________________\n",
      "Layer (type)                    Output Shape         Param #     Connected to                     \n",
      "==================================================================================================\n",
      "input_1 (InputLayer)            [(None, 938)]        0                                            \n",
      "__________________________________________________________________________________________________\n",
      "dropout (Dropout)               (None, 938)          0           input_1[0][0]                    \n",
      "__________________________________________________________________________________________________\n",
      "dense (Dense)                   (None, 128)          120192      dropout[0][0]                    \n",
      "__________________________________________________________________________________________________\n",
      "dropout_1 (Dropout)             (None, 128)          0           dense[0][0]                      \n",
      "__________________________________________________________________________________________________\n",
      "classification (Dense)          (None, 8)            1032        dropout_1[0][0]                  \n",
      "__________________________________________________________________________________________________\n",
      "reconstruction (Dense)          (None, 938)          121002      dropout_1[0][0]                  \n",
      "==================================================================================================\n",
      "Total params: 242,226\n",
      "Trainable params: 242,226\n",
      "Non-trainable params: 0\n",
      "__________________________________________________________________________________________________\n",
      "None\n"
     ]
    }
   ],
   "source": [
    "print(res['model'][0].summary())"
   ]
  },
  {
   "cell_type": "markdown",
   "metadata": {},
   "source": [
    "### Imputation by AutoClass with other parameter settings"
   ]
  },
  {
   "cell_type": "markdown",
   "metadata": {},
   "source": [
    "- By default, `AutoClassImpute` takes in an unnormalized count matrix and performs library size normalization and log transformation. If your data is already normalized or normalization is not needed, you can set `cellwise_norm=False`, `log1p=False`. E.g.,\n",
    "\n",
    "  `res = AutoClassImpute(X_norm,cellwise_norm=False,log1p=False)`\n"
   ]
  },
  {
   "cell_type": "markdown",
   "metadata": {},
   "source": [
    "- AutoClass use K-means in the pre-clustering step to obtain virtual cluster labels, the default cluster numbers are 8,9,10. The final imputation result is the average results over different pre-clustering settings. Other pre-cluster numbers can be used by setting `num_cluster=[n1,n2,...]`. E.g.,\n",
    "\n",
    " Use multiple integers: `res = AutoClassImpute(X,num_cluster = [5,6,7])`\n",
    " \n",
    " Or use single integer: `res = AutoClassImpute(X,num_cluster = [6])`\n"
   ]
  },
  {
   "cell_type": "code",
   "execution_count": 12,
   "metadata": {},
   "outputs": [
    {
     "name": "stdout",
     "output_type": "stream",
     "text": [
      "500 cells and 938 genes\n",
      "number of clusters in pre-clustering:[6]\n",
      "n_cluster = 6...\n",
      "escape time is: 5.739742994308472\n"
     ]
    },
    {
     "data": {
      "image/png": "[encoded data removed]",
      "text/plain": [
       "<Figure size 144x144 with 1 Axes>"
      ]
     },
     "metadata": {},
     "output_type": "display_data"
    }
   ],
   "source": [
    "res = AutoClassImpute(X,num_cluster = [6])\n",
    "imp_auto = res['imp']\n",
    " \n",
    "PCA_imp = PCA(n_components=50,random_state=1).fit_transform(imp_auto)\n",
    "tsne_imp = TSNE(n_components=2,random_state=1).fit_transform(PCA_imp)\n",
    "fig = plt.figure(figsize=(2,2))\n",
    "for i in range(K):\n",
    "    plt.scatter(tsne_imp[Y==unique_class[i],0],\n",
    "                tsne_imp[Y==unique_class[i],1], \n",
    "                s=10,label = unique_class[i] ) \n",
    "plt.title('Imputation by AutoClass')\n",
    "plt.xticks([],[])\n",
    "plt.yticks([],[])\n",
    "plt.xlabel('t-SNE1')\n",
    "plt.ylabel('t-SNE2')\n",
    "plt.show()"
   ]
  },
  {
   "cell_type": "markdown",
   "metadata": {},
   "source": [
    "- AutoClass loss is a weighted sum of classification loss and reconstruction loss. The weights of these two losses are w and 1-w. Default w is 0.9. Users can change the value of `classifier_weight` to change the classification loss weight. To remove the classifier component, set `classifier_weight=0`. I.e.,\n",
    "  \n",
    "  `res = AutoClassImpute(X,classifier_weight=0) `\n"
   ]
  },
  {
   "cell_type": "code",
   "execution_count": 13,
   "metadata": {},
   "outputs": [
    {
     "name": "stdout",
     "output_type": "stream",
     "text": [
      "500 cells and 938 genes\n",
      "no classifier layer\n",
      "run the model 3 times and average the final imputation results\n",
      "n_run = 1...\n",
      "n_run = 2...\n",
      "n_run = 3...\n",
      "escape time is: 40.51532196998596\n"
     ]
    },
    {
     "data": {
      "image/png": "[encoded data removed]",
      "text/plain": [
       "<Figure size 144x144 with 1 Axes>"
      ]
     },
     "metadata": {},
     "output_type": "display_data"
    }
   ],
   "source": [
    "res = AutoClassImpute(X,classifier_weight=0)\n",
    "imp_auto = res['imp']\n",
    " \n",
    "PCA_imp = PCA(n_components=50,random_state=1).fit_transform(imp_auto)\n",
    "tsne_imp = TSNE(n_components=2,random_state=1).fit_transform(PCA_imp)\n",
    "fig = plt.figure(figsize=(2,2))\n",
    "for i in range(K):\n",
    "    plt.scatter(tsne_imp[Y==unique_class[i],0],\n",
    "                tsne_imp[Y==unique_class[i],1], \n",
    "                s=10,label = unique_class[i] ) \n",
    "plt.title('Imputation by AutoClass without classifier layer')\n",
    "plt.xticks([],[])\n",
    "plt.yticks([],[])\n",
    "plt.xlabel('t-SNE1')\n",
    "plt.ylabel('t-SNE2')\n",
    "plt.show()"
   ]
  },
  {
   "cell_type": "markdown",
   "metadata": {},
   "source": [
    "- If cell type informatin is provided, it can be used in the AutoClass model directly by passing it to `truelabel` and skip the pre-clustering step. I.e.,\n",
    "\n",
    "  `res = AutoClassImpute(X,truelabel=celltypes)`"
   ]
  },
  {
   "cell_type": "code",
   "execution_count": 14,
   "metadata": {},
   "outputs": [
    {
     "name": "stdout",
     "output_type": "stream",
     "text": [
      "500 cells and 938 genes\n",
      "use provided celltype information\n",
      "run the model 3 times and average the final imputation results\n",
      "n_run = 1...\n",
      "n_run = 2...\n",
      "n_run = 3...\n",
      "escape time is: 26.897584915161133\n"
     ]
    }
   ],
   "source": [
    "res = AutoClassImpute(X,truelabel=celltypes)\n",
    "imp_auto = res['imp']"
   ]
  },
  {
   "cell_type": "markdown",
   "metadata": {},
   "source": [
    "- By default, dropout of neurons is used to prevent overfitting. Dropout is applied to every layer (except output layers), and dropout weight is 0.1. Users can use other dropout weight by changing the value of `dropout_rate`. E.g.,\n",
    "\n",
    "  `res = AutoClassImpute(X,dropout_rate=0.3)`\n"
   ]
  },
  {
   "cell_type": "markdown",
   "metadata": {},
   "source": [
    "- By default, the autoencoder component in AutoClass contains one hidden layer, i.e., the bottleneck layer, and the default size (number of neurons) is 128. Users can specify other **encoder layer sizes** in `encoder_layer_size`. E.g., autoencoder component with five hidden layers, layer sizes [256,128,32,128,256]:\n",
    "\n",
    "  `res = AutoClassImpute(X,encoder_layer_size=[256,128,32])`\n",
    "\n",
    "   Or, autoencoder component with one hidden layer, layer size 16:\n",
    "   \n",
    "  `res = AutoClassImpute(X,encoder_layer_size=[16])`\n",
    "\n",
    "\n",
    "  Tips: if bottleneck layer is too small (e.g., 16), it is better not to use dropout regulerization, and a lower `classifier_weight` value is      recommended."
   ]
  },
  {
   "cell_type": "code",
   "execution_count": 15,
   "metadata": {},
   "outputs": [
    {
     "name": "stdout",
     "output_type": "stream",
     "text": [
      "500 cells and 938 genes\n",
      "number of clusters in pre-clustering:[8, 9, 10]\n",
      "n_cluster = 8...\n",
      "n_cluster = 9...\n",
      "n_cluster = 10...\n",
      "escape time is: 26.418617725372314\n"
     ]
    },
    {
     "data": {
      "image/png": "[encoded data removed]",
      "text/plain": [
       "<Figure size 144x144 with 1 Axes>"
      ]
     },
     "metadata": {},
     "output_type": "display_data"
    }
   ],
   "source": [
    "res = AutoClassImpute(X,encoder_layer_size=[16],classifier_weight=0.3,\n",
    "                      dropout_rate=0)\n",
    "imp_auto = res['imp']\n",
    " \n",
    "PCA_imp = PCA(n_components=50,random_state=1).fit_transform(imp_auto)\n",
    "tsne_imp = TSNE(n_components=2,random_state=1).fit_transform(PCA_imp)\n",
    "fig = plt.figure(figsize=(2,2))\n",
    "for i in range(K):\n",
    "    plt.scatter(tsne_imp[Y==unique_class[i],0],\n",
    "                tsne_imp[Y==unique_class[i],1], \n",
    "                s=10,label = unique_class[i] ) \n",
    "plt.title('Imputation by AutoClass')\n",
    "plt.xticks([],[])\n",
    "plt.yticks([],[])\n",
    "plt.xlabel('t-SNE1')\n",
    "plt.ylabel('t-SNE2')\n",
    "plt.show()"
   ]
  },
  {
   "cell_type": "markdown",
   "metadata": {},
   "source": [
    "- AutoClass uses `Keras.Adam` optimizer with default learning rate 0.001. Learning rate is multiplied by 0.1 if validation loss does not improve for `lr=15` epochs. The training stops if there is no improvement for `es=30` epochs. The learning rate adjustment epochs and early stopping eopchs can be changed by changing the value of `lr` and `es`. E.g.,\n",
    "\n",
    "   `res = AutoClassImpute(X,lr=10,es=20)`"
   ]
  }
 ],
 "metadata": {
  "celltoolbar": "Raw Cell Format",
  "kernelspec": {
   "display_name": "Python 3",
   "language": "python",
   "name": "python3"
  },
  "language_info": {
   "codemirror_mode": {
    "name": "ipython",
    "version": 3
   },
   "file_extension": ".py",
   "mimetype": "text/x-python",
   "name": "python",
   "nbconvert_exporter": "python",
   "pygments_lexer": "ipython3",
   "version": "3.7.3"
  }
 },
 "nbformat": 4,
 "nbformat_minor": 2
}
