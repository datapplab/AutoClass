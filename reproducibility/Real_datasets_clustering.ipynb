{
 "cells": [
  {
   "cell_type": "code",
   "execution_count": 1,
   "metadata": {},
   "outputs": [],
   "source": [
    "import pandas as pd\n",
    "import numpy as np\n",
    "import matplotlib.pyplot as plt\n",
    "from sklearn.metrics import silhouette_score\n",
    "from AutoClass import AutoClassImpute,take_norm,find_hv_genes\n",
    "from sklearn.decomposition import PCA\n",
    "from sklearn.manifold import TSNE"
   ]
  },
  {
   "cell_type": "code",
   "execution_count": 2,
   "metadata": {},
   "outputs": [],
   "source": [
    "from sklearn.metrics import adjusted_rand_score,normalized_mutual_info_score\n",
    "from sklearn.cluster import KMeans\n",
    "from sklearn.metrics.cluster import contingency_matrix\n",
    "import warnings\n",
    "def purity_score(y_true, y_pred):\n",
    "    # compute contingency matrix (also called confusion matrix)\n",
    "    contingency_matrix1 = contingency_matrix(y_true, y_pred)\n",
    "    # return purity\n",
    "    return np.sum(np.amax(contingency_matrix1, axis=0)) / np.sum(contingency_matrix1) \n",
    "def JaccardInd(ytrue,ypred):\n",
    "    n = len(ytrue)\n",
    "    a,b,c,d = 0,0,0,0\n",
    "    for i in range(n-1):\n",
    "        for j in range(i+1,n):\n",
    "            if ((ypred[i] == ypred[j])&(ytrue[i]==ytrue[j])):\n",
    "                a = a + 1\n",
    "            elif ((ypred[i] == ypred[j])&(ytrue[i]!=ytrue[j])):\n",
    "                b = b + 1\n",
    "            elif ((ypred[i] != ypred[j])&(ytrue[i]==ytrue[j])):\n",
    "                c = c + 1\n",
    "            else:\n",
    "                d = d + 1\n",
    "    if (a==0)&(b==0)&(c==0):\n",
    "        return 0\n",
    "    else:\n",
    "        return a/(a+b+c)\n",
    "def cluster_metrics_inTop200genes(X,label):\n",
    "    K = len(np.unique(label))\n",
    "    warnings.filterwarnings(\"ignore\")\n",
    "    df = pd.DataFrame()\n",
    "    highvar_genes = find_hv_genes(X,top=200)\n",
    "    data = X[:,highvar_genes]\n",
    "    kmeans = KMeans(n_clusters = K,random_state=1).fit(data)\n",
    "    cluster_label = kmeans.labels_\n",
    "    df['ARI'] = [np.round(adjusted_rand_score(label,cluster_label),3)]\n",
    "    df['JI'] = [np.round(JaccardInd(label,cluster_label),3)]\n",
    "    df['NMI'] = [np.round(normalized_mutual_info_score(label,cluster_label),3)]\n",
    "    df['PS'] = [np.round(purity_score(label,cluster_label),3)]\n",
    "    return df"
   ]
  },
  {
   "cell_type": "markdown",
   "metadata": {},
   "source": [
    "#### Buettner dataset"
   ]
  },
  {
   "cell_type": "code",
   "execution_count": 3,
   "metadata": {},
   "outputs": [
    {
     "name": "stdout",
     "output_type": "stream",
     "text": [
      "182 cells, 8985 genes \n",
      " proportion of 0s: 0.379163685507592 \n",
      " 3 different cell types\n"
     ]
    }
   ],
   "source": [
    "expr = pd.read_csv('Buettner.csv',index_col=0) # preprocessed data, no need to normalization\n",
    "X = expr.values[:,:-1] \n",
    "label = expr.values[:,-1]\n",
    "K = len(np.unique(label))\n",
    "ncell,ngene = X.shape[0],X.shape[1]\n",
    "print('{} cells, {} genes \\n proportion of 0s: {} \\n {} different cell types'.format(ncell,ngene,np.mean(X==0),K))"
   ]
  },
  {
   "cell_type": "code",
   "execution_count": 4,
   "metadata": {},
   "outputs": [
    {
     "name": "stdout",
     "output_type": "stream",
     "text": [
      "182 cells and 8985 genes\n",
      "n_cluster = 8\n",
      "n_cluster = 9\n",
      "n_cluster = 10\n",
      "escape time is: 57.46334195137024\n"
     ]
    }
   ],
   "source": [
    "res = AutoClassImpute(X,cellwise_norm=False,log1p=False)  "
   ]
  },
  {
   "cell_type": "code",
   "execution_count": 5,
   "metadata": {},
   "outputs": [
    {
     "data": {
      "text/html": [
       "<div>\n",
       "<style scoped>\n",
       "    .dataframe tbody tr th:only-of-type {\n",
       "        vertical-align: middle;\n",
       "    }\n",
       "\n",
       "    .dataframe tbody tr th {\n",
       "        vertical-align: top;\n",
       "    }\n",
       "\n",
       "    .dataframe thead th {\n",
       "        text-align: right;\n",
       "    }\n",
       "</style>\n",
       "<table border=\"1\" class=\"dataframe\">\n",
       "  <thead>\n",
       "    <tr style=\"text-align: right;\">\n",
       "      <th></th>\n",
       "      <th>ARI</th>\n",
       "      <th>JI</th>\n",
       "      <th>NMI</th>\n",
       "      <th>PS</th>\n",
       "    </tr>\n",
       "  </thead>\n",
       "  <tbody>\n",
       "    <tr>\n",
       "      <th>0</th>\n",
       "      <td>0.33</td>\n",
       "      <td>0.387</td>\n",
       "      <td>0.409</td>\n",
       "      <td>0.703</td>\n",
       "    </tr>\n",
       "  </tbody>\n",
       "</table>\n",
       "</div>"
      ],
      "text/plain": [
       "    ARI     JI    NMI     PS\n",
       "0  0.33  0.387  0.409  0.703"
      ]
     },
     "execution_count": 5,
     "metadata": {},
     "output_type": "execute_result"
    }
   ],
   "source": [
    "cluster_metrics_inTop200genes(res['imp'],label)"
   ]
  },
  {
   "cell_type": "markdown",
   "metadata": {},
   "source": [
    "#### Usoskin dataset"
   ]
  },
  {
   "cell_type": "code",
   "execution_count": 6,
   "metadata": {},
   "outputs": [
    {
     "name": "stdout",
     "output_type": "stream",
     "text": [
      "622 cells, 1000 genes \n",
      " proportion of 0s: 0.9582668810289389 \n",
      " 4 different cell types\n"
     ]
    }
   ],
   "source": [
    "expr = pd.read_csv('Usoskin.csv',index_col=0) # preprocessed data, no need to normalization\n",
    "X = expr.values[:,:-1] \n",
    "label = expr.values[:,-1]\n",
    "K = len(np.unique(label))\n",
    "ncell,ngene = X.shape[0],X.shape[1]\n",
    "print('{} cells, {} genes \\n proportion of 0s: {} \\n {} different cell types'.format(ncell,ngene,np.mean(X==0),K))"
   ]
  },
  {
   "cell_type": "code",
   "execution_count": 7,
   "metadata": {},
   "outputs": [
    {
     "name": "stdout",
     "output_type": "stream",
     "text": [
      "622 cells and 1000 genes\n",
      "n_cluster = 8\n",
      "n_cluster = 9\n",
      "n_cluster = 10\n",
      "escape time is: 27.73425602912903\n"
     ]
    },
    {
     "data": {
      "text/html": [
       "<div>\n",
       "<style scoped>\n",
       "    .dataframe tbody tr th:only-of-type {\n",
       "        vertical-align: middle;\n",
       "    }\n",
       "\n",
       "    .dataframe tbody tr th {\n",
       "        vertical-align: top;\n",
       "    }\n",
       "\n",
       "    .dataframe thead th {\n",
       "        text-align: right;\n",
       "    }\n",
       "</style>\n",
       "<table border=\"1\" class=\"dataframe\">\n",
       "  <thead>\n",
       "    <tr style=\"text-align: right;\">\n",
       "      <th></th>\n",
       "      <th>ARI</th>\n",
       "      <th>JI</th>\n",
       "      <th>NMI</th>\n",
       "      <th>PS</th>\n",
       "    </tr>\n",
       "  </thead>\n",
       "  <tbody>\n",
       "    <tr>\n",
       "      <th>0</th>\n",
       "      <td>0.871</td>\n",
       "      <td>0.832</td>\n",
       "      <td>0.83</td>\n",
       "      <td>0.937</td>\n",
       "    </tr>\n",
       "  </tbody>\n",
       "</table>\n",
       "</div>"
      ],
      "text/plain": [
       "     ARI     JI   NMI     PS\n",
       "0  0.871  0.832  0.83  0.937"
      ]
     },
     "execution_count": 7,
     "metadata": {},
     "output_type": "execute_result"
    }
   ],
   "source": [
    "res = AutoClassImpute(X,cellwise_norm=False,log1p=False)\n",
    "cluster_metrics_inTop200genes(res['imp'],label)"
   ]
  },
  {
   "cell_type": "code",
   "execution_count": 8,
   "metadata": {},
   "outputs": [],
   "source": [
    "Y = [int(i) for i in label]\n",
    "import random\n",
    "unique_class = np.unique(Y)\n",
    "K = len(unique_class)\n",
    "class_id = [list(np.arange(ncell)[Y==unique_class[i]]) for i in range(K)]"
   ]
  },
  {
   "cell_type": "code",
   "execution_count": 9,
   "metadata": {},
   "outputs": [],
   "source": [
    "from scipy.stats import pearsonr\n",
    "cross_cor_raw = []\n",
    "cross_cor_auto = []\n",
    "imp_auto = res['imp']\n",
    "runs = 200\n",
    "for run in range(runs):\n",
    "    i,j = random.sample(list(unique_class),2)\n",
    "    ni, nj = random.sample(class_id[i-1],1)[0], random.sample(class_id[j-1],1)[0]\n",
    "    cross_cor_raw.append(pearsonr(X[ni,:],X[nj,:])[0])\n",
    "    cross_cor_auto.append(pearsonr(imp_auto[ni,:],imp_auto[nj,:])[0])\n",
    "    "
   ]
  },
  {
   "cell_type": "code",
   "execution_count": 10,
   "metadata": {},
   "outputs": [],
   "source": [
    "\n",
    "from scipy.stats.stats import pearsonr\n",
    "\n",
    "\n",
    "intra_cor_raw = []\n",
    "intra_cor_auto = []\n",
    "\n",
    "for k in range(K):\n",
    "    group = np.arange(ncell)[Y==unique_class[k]]\n",
    "    num = len(group)\n",
    "    for i in range(num-1):\n",
    "        for j in range(i+1,num):\n",
    "            \n",
    "            intra_cor_raw.append(pearsonr(X[group[i],:],X[group[j],:])[0])\n",
    "            intra_cor_auto.append(pearsonr(imp_auto[group[i],:],imp_auto[group[j],:])[0])\n",
    "            "
   ]
  },
  {
   "cell_type": "code",
   "execution_count": 11,
   "metadata": {},
   "outputs": [
    {
     "data": {
      "image/png": "[encoded data removed]",
      "text/plain": [
       "<Figure size 432x288 with 1 Axes>"
      ]
     },
     "metadata": {
      "needs_background": "light"
     },
     "output_type": "display_data"
    }
   ],
   "source": [
    "data_in = [intra_cor_raw,intra_cor_auto]\n",
    "data_cross = [cross_cor_raw,cross_cor_auto]\n",
    "ticks = ['Raw','AutoClass']\n",
    "def set_box_color(bp, color):\n",
    "    plt.setp(bp['boxes'], color=color)\n",
    "    plt.setp(bp['whiskers'], color=color)\n",
    "    plt.setp(bp['caps'], color=color)\n",
    "    plt.setp(bp['medians'], color=color)\n",
    "\n",
    "plt.figure()\n",
    "\n",
    "bpl = plt.boxplot(data_in, positions=np.array(range(len(data_in)))*2.0-0.4, sym='', widths=0.6)\n",
    "bpr = plt.boxplot(data_cross, positions=np.array(range(len(data_cross)))*2.0+0.4, sym='', widths=0.6)\n",
    "set_box_color(bpl, '#D7191C') \n",
    "set_box_color(bpr, '#2C7BB6')\n",
    "\n",
    "# draw temporary red and blue lines and use them to create a legend\n",
    "plt.plot([], c='#D7191C', label='Within Group')\n",
    "plt.plot([], c='#2C7BB6', label='Cross Group')\n",
    "plt.legend(frameon=False)\n",
    "\n",
    "plt.xticks(range(0, len(ticks) * 2, 2), ticks,size=12.5)\n",
    "plt.xlim(-1, len(ticks)*2-1)\n",
    "plt.ylim(-0.1, 1.05)\n",
    "plt.yticks([0.0,0.3,0.6,0.9],[0.0,0.3,0.6,0.9],size=12.5)\n",
    "plt.tight_layout()\n",
    "plt.savefig('cor.pdf')"
   ]
  },
  {
   "cell_type": "markdown",
   "metadata": {},
   "source": [
    "#### Lake dataset"
   ]
  },
  {
   "cell_type": "code",
   "execution_count": 12,
   "metadata": {},
   "outputs": [
    {
     "name": "stdout",
     "output_type": "stream",
     "text": [
      "8592 cells, 1000 genes \n",
      " proportion of 0s: 0.7339482076350093 \n",
      " 11 different cell types\n"
     ]
    }
   ],
   "source": [
    "expr = pd.read_csv('Lake.csv',index_col=0)\n",
    "X = expr.values[:,:-1] \n",
    "label = expr.values[:,-1]\n",
    "K = len(np.unique(label))\n",
    "ncell,ngene = X.shape[0],X.shape[1]\n",
    "print('{} cells, {} genes \\n proportion of 0s: {} \\n {} different cell types'.format(ncell,ngene,np.mean(X==0),K))"
   ]
  },
  {
   "cell_type": "code",
   "execution_count": 13,
   "metadata": {},
   "outputs": [
    {
     "name": "stdout",
     "output_type": "stream",
     "text": [
      "8592 cells and 1000 genes\n",
      "n_cluster = 8\n",
      "n_cluster = 9\n",
      "n_cluster = 10\n",
      "escape time is: 163.1582064628601\n"
     ]
    },
    {
     "data": {
      "text/html": [
       "<div>\n",
       "<style scoped>\n",
       "    .dataframe tbody tr th:only-of-type {\n",
       "        vertical-align: middle;\n",
       "    }\n",
       "\n",
       "    .dataframe tbody tr th {\n",
       "        vertical-align: top;\n",
       "    }\n",
       "\n",
       "    .dataframe thead th {\n",
       "        text-align: right;\n",
       "    }\n",
       "</style>\n",
       "<table border=\"1\" class=\"dataframe\">\n",
       "  <thead>\n",
       "    <tr style=\"text-align: right;\">\n",
       "      <th></th>\n",
       "      <th>ARI</th>\n",
       "      <th>JI</th>\n",
       "      <th>NMI</th>\n",
       "      <th>PS</th>\n",
       "    </tr>\n",
       "  </thead>\n",
       "  <tbody>\n",
       "    <tr>\n",
       "      <th>0</th>\n",
       "      <td>0.482</td>\n",
       "      <td>0.376</td>\n",
       "      <td>0.631</td>\n",
       "      <td>0.724</td>\n",
       "    </tr>\n",
       "  </tbody>\n",
       "</table>\n",
       "</div>"
      ],
      "text/plain": [
       "     ARI     JI    NMI     PS\n",
       "0  0.482  0.376  0.631  0.724"
      ]
     },
     "execution_count": 13,
     "metadata": {},
     "output_type": "execute_result"
    }
   ],
   "source": [
    "res = AutoClassImpute(X)\n",
    "cluster_metrics_inTop200genes(res['imp'],label)"
   ]
  },
  {
   "cell_type": "markdown",
   "metadata": {},
   "source": [
    "#### Zeisel dataset"
   ]
  },
  {
   "cell_type": "code",
   "execution_count": 14,
   "metadata": {},
   "outputs": [
    {
     "name": "stdout",
     "output_type": "stream",
     "text": [
      "3005 cells, 1000 genes \n",
      " proportion of 0s: 0.4858179700499168 \n",
      " 9 different cell types\n"
     ]
    }
   ],
   "source": [
    "expr = pd.read_csv('Zeisel.csv',index_col=0)\n",
    "X = expr.values[:,:-1] \n",
    "label = expr.values[:,-1]\n",
    "K = len(np.unique(label))\n",
    "ncell,ngene = X.shape[0],X.shape[1]\n",
    "print('{} cells, {} genes \\n proportion of 0s: {} \\n {} different cell types'.format(ncell,ngene,np.mean(X==0),K))"
   ]
  },
  {
   "cell_type": "code",
   "execution_count": 15,
   "metadata": {},
   "outputs": [
    {
     "name": "stdout",
     "output_type": "stream",
     "text": [
      "3005 cells and 1000 genes\n",
      "n_cluster = 8\n",
      "n_cluster = 9\n",
      "n_cluster = 10\n",
      "escape time is: 154.05238127708435\n"
     ]
    },
    {
     "data": {
      "text/html": [
       "<div>\n",
       "<style scoped>\n",
       "    .dataframe tbody tr th:only-of-type {\n",
       "        vertical-align: middle;\n",
       "    }\n",
       "\n",
       "    .dataframe tbody tr th {\n",
       "        vertical-align: top;\n",
       "    }\n",
       "\n",
       "    .dataframe thead th {\n",
       "        text-align: right;\n",
       "    }\n",
       "</style>\n",
       "<table border=\"1\" class=\"dataframe\">\n",
       "  <thead>\n",
       "    <tr style=\"text-align: right;\">\n",
       "      <th></th>\n",
       "      <th>ARI</th>\n",
       "      <th>JI</th>\n",
       "      <th>NMI</th>\n",
       "      <th>PS</th>\n",
       "    </tr>\n",
       "  </thead>\n",
       "  <tbody>\n",
       "    <tr>\n",
       "      <th>0</th>\n",
       "      <td>0.811</td>\n",
       "      <td>0.734</td>\n",
       "      <td>0.783</td>\n",
       "      <td>0.906</td>\n",
       "    </tr>\n",
       "  </tbody>\n",
       "</table>\n",
       "</div>"
      ],
      "text/plain": [
       "     ARI     JI    NMI     PS\n",
       "0  0.811  0.734  0.783  0.906"
      ]
     },
     "execution_count": 15,
     "metadata": {},
     "output_type": "execute_result"
    }
   ],
   "source": [
    "res = AutoClassImpute(X)\n",
    "cluster_metrics_inTop200genes(res['imp'],label)"
   ]
  },
  {
   "cell_type": "code",
   "execution_count": null,
   "metadata": {},
   "outputs": [],
   "source": []
  }
 ],
 "metadata": {
  "kernelspec": {
   "display_name": "Python 3",
   "language": "python",
   "name": "python3"
  },
  "language_info": {
   "codemirror_mode": {
    "name": "ipython",
    "version": 3
   },
   "file_extension": ".py",
   "mimetype": "text/x-python",
   "name": "python",
   "nbconvert_exporter": "python",
   "pygments_lexer": "ipython3",
   "version": "3.7.3"
  }
 },
 "nbformat": 4,
 "nbformat_minor": 2
}
